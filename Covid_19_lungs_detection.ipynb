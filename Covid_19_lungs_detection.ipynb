{
  "nbformat": 4,
  "nbformat_minor": 0,
  "metadata": {
    "colab": {
      "name": "Covid 19 lungs detection.ipynb",
      "provenance": [],
      "collapsed_sections": []
    },
    "kernelspec": {
      "name": "python3",
      "display_name": "Python 3"
    },
    "language_info": {
      "name": "python"
    },
    "accelerator": "GPU"
  },
  "cells": [
    {
      "cell_type": "code",
      "metadata": {
        "id": "6cbHUc0HzoSg",
        "colab": {
          "base_uri": "https://localhost:8080/"
        },
        "outputId": "432f5b2f-cb1f-400b-e18b-59a06bdd8d2f"
      },
      "source": [
        "from keras.layers import Input,Lambda,Dense,Flatten\n",
        "from keras.models import Model\n",
        "from keras.applications.vgg16 import VGG16\n",
        "from keras.applications.vgg16 import preprocess_input\n",
        "from keras.preprocessing import image\n",
        "from tensorflow.keras.preprocessing.image import ImageDataGenerator\n",
        "from tensorflow.keras.optimizers import Adam\n",
        "from keras.models import Sequential\n",
        "from tensorflow.keras.models import Model, load_model\n",
        "\n",
        "from glob import glob\n",
        "import matplotlib.pyplot as plt\n",
        "\n",
        "\n",
        "import tensorflow as tf\n",
        "from tensorflow import keras\n",
        "import matplotlib.pyplot as plt\n",
        "\n",
        "#import h5py\n",
        "import keras\n",
        "from keras.layers import *\n",
        "from keras.models import *\n",
        "from keras.preprocessing import image\n",
        "from tensorflow.keras import layers\n",
        "from tensorflow.keras.models import *\n",
        "from tensorflow.keras.preprocessing import image\n",
        " \n",
        "#Importing required libraries.\n",
        "from tensorflow.keras.models import Sequential\n",
        "# To initialize neural network\n",
        "from keras.layers import Convolution2D\n",
        "# Images are two dimensional, concolution step\n",
        "from keras.layers import MaxPooling2D\n",
        "# Pooling step\n",
        "from keras.layers import Flatten\n",
        "# Convert pools feature map into this large feature vector\n",
        "from keras.layers import Dense\n",
        "#To add fully connected layers\n",
        "from tensorflow.keras.models import Model, load_model\n",
        "from keras.callbacks import CSVLogger\n",
        "from tensorflow.keras.optimizers import Adam \n",
        "\n",
        "from google.colab import drive\n",
        "drive.mount('/content/drive')"
      ],
      "execution_count": 1,
      "outputs": [
        {
          "output_type": "stream",
          "text": [
            "Mounted at /content/drive\n"
          ],
          "name": "stdout"
        }
      ]
    },
    {
      "cell_type": "code",
      "metadata": {
        "id": "07WToA-lzp45"
      },
      "source": [
        "IMAGE_SIZE =[224,224]\n",
        "# BATCH_SIZE = 64\n",
        "train_dir='/content/drive/MyDrive/Final-Dataset4000-SPLIT/train'\n",
        "val_dir='/content/drive/MyDrive/Final-Dataset4000-SPLIT/val'         #LEARNING_RATE =0.0005"
      ],
      "execution_count": 2,
      "outputs": []
    },
    {
      "cell_type": "code",
      "metadata": {
        "id": "_E2AFTBkz2qn",
        "colab": {
          "base_uri": "https://localhost:8080/"
        },
        "outputId": "9a2cab13-8a8c-4697-963d-e933a560012c"
      },
      "source": [
        "#add preprocessing layer to the front of VGG\n",
        "\n",
        "vgg=VGG16(input_shape = IMAGE_SIZE +[3],\n",
        "          weights = 'imagenet',\n",
        "          include_top= False)\n",
        "#By keeping include_top as False we have not specified the last layer in the \n",
        "# model.Here, we will add our customized last layers."
      ],
      "execution_count": 3,
      "outputs": [
        {
          "output_type": "stream",
          "text": [
            "Downloading data from https://storage.googleapis.com/tensorflow/keras-applications/vgg16/vgg16_weights_tf_dim_ordering_tf_kernels_notop.h5\n",
            "58892288/58889256 [==============================] - 0s 0us/step\n",
            "58900480/58889256 [==============================] - 0s 0us/step\n"
          ],
          "name": "stdout"
        }
      ]
    },
    {
      "cell_type": "code",
      "metadata": {
        "id": "rR8-oIcBz39G"
      },
      "source": [
        "#dont train the existing weights. The weights are already trained\n",
        "for layer in vgg.layers:\n",
        "  layer.trainable =False"
      ],
      "execution_count": 4,
      "outputs": []
    },
    {
      "cell_type": "code",
      "metadata": {
        "id": "LY-26Mi7z5iW"
      },
      "source": [
        "folders= glob(\"/content/drive/MyDrive/Final-Dataset4000-SPLIT/train/*\")\n",
        "#To get all the categories under the train folder path in a list we use a glob method."
      ],
      "execution_count": 5,
      "outputs": []
    },
    {
      "cell_type": "code",
      "metadata": {
        "id": "DvmcaY64z-NH"
      },
      "source": [
        "x=Flatten()(vgg.output) #Removes last laeyrs"
      ],
      "execution_count": 6,
      "outputs": []
    },
    {
      "cell_type": "code",
      "metadata": {
        "id": "OqUYpbTJz_aT"
      },
      "source": [
        "prediction = Dense(len(folders), activation='softmax')(x)\n",
        "#In prediction, while adding a dense layer we have passed the argument\n",
        "# len(folders), which states the classes normal and COVID. \n",
        "#So, len(folders) are two.\n",
        "\n",
        "model = Model(inputs=vgg.input, outputs=prediction)"
      ],
      "execution_count": 7,
      "outputs": []
    },
    {
      "cell_type": "code",
      "metadata": {
        "colab": {
          "base_uri": "https://localhost:8080/"
        },
        "id": "CzOlrqAS0A3r",
        "outputId": "d15177c2-b68f-42d1-94e6-49cf10b77830"
      },
      "source": [
        "model.summary()\n",
        "#After specifying the last layer, we will now create an object model. \n",
        "#Which has standard VGG input, which we have defined above, \n",
        "#and prediction as output."
      ],
      "execution_count": 8,
      "outputs": [
        {
          "output_type": "stream",
          "text": [
            "Model: \"model\"\n",
            "_________________________________________________________________\n",
            "Layer (type)                 Output Shape              Param #   \n",
            "=================================================================\n",
            "input_1 (InputLayer)         [(None, 224, 224, 3)]     0         \n",
            "_________________________________________________________________\n",
            "block1_conv1 (Conv2D)        (None, 224, 224, 64)      1792      \n",
            "_________________________________________________________________\n",
            "block1_conv2 (Conv2D)        (None, 224, 224, 64)      36928     \n",
            "_________________________________________________________________\n",
            "block1_pool (MaxPooling2D)   (None, 112, 112, 64)      0         \n",
            "_________________________________________________________________\n",
            "block2_conv1 (Conv2D)        (None, 112, 112, 128)     73856     \n",
            "_________________________________________________________________\n",
            "block2_conv2 (Conv2D)        (None, 112, 112, 128)     147584    \n",
            "_________________________________________________________________\n",
            "block2_pool (MaxPooling2D)   (None, 56, 56, 128)       0         \n",
            "_________________________________________________________________\n",
            "block3_conv1 (Conv2D)        (None, 56, 56, 256)       295168    \n",
            "_________________________________________________________________\n",
            "block3_conv2 (Conv2D)        (None, 56, 56, 256)       590080    \n",
            "_________________________________________________________________\n",
            "block3_conv3 (Conv2D)        (None, 56, 56, 256)       590080    \n",
            "_________________________________________________________________\n",
            "block3_pool (MaxPooling2D)   (None, 28, 28, 256)       0         \n",
            "_________________________________________________________________\n",
            "block4_conv1 (Conv2D)        (None, 28, 28, 512)       1180160   \n",
            "_________________________________________________________________\n",
            "block4_conv2 (Conv2D)        (None, 28, 28, 512)       2359808   \n",
            "_________________________________________________________________\n",
            "block4_conv3 (Conv2D)        (None, 28, 28, 512)       2359808   \n",
            "_________________________________________________________________\n",
            "block4_pool (MaxPooling2D)   (None, 14, 14, 512)       0         \n",
            "_________________________________________________________________\n",
            "block5_conv1 (Conv2D)        (None, 14, 14, 512)       2359808   \n",
            "_________________________________________________________________\n",
            "block5_conv2 (Conv2D)        (None, 14, 14, 512)       2359808   \n",
            "_________________________________________________________________\n",
            "block5_conv3 (Conv2D)        (None, 14, 14, 512)       2359808   \n",
            "_________________________________________________________________\n",
            "block5_pool (MaxPooling2D)   (None, 7, 7, 512)         0         \n",
            "_________________________________________________________________\n",
            "flatten (Flatten)            (None, 25088)             0         \n",
            "_________________________________________________________________\n",
            "dense (Dense)                (None, 2)                 50178     \n",
            "=================================================================\n",
            "Total params: 14,764,866\n",
            "Trainable params: 50,178\n",
            "Non-trainable params: 14,714,688\n",
            "_________________________________________________________________\n"
          ],
          "name": "stdout"
        }
      ]
    },
    {
      "cell_type": "code",
      "metadata": {
        "id": "sZ1F2ejH0CFM"
      },
      "source": [
        "#tell the model what cost and optimization method to use\n",
        "#Now we will compile the defined model object.\n",
        "model.compile(\n",
        "    loss='categorical_crossentropy',\n",
        "    optimizer='adam',\n",
        "    #optimizer=optimizers.Adam(lr=LEARNING_RATE),\n",
        "    metrics=['accuracy']\n",
        ")"
      ],
      "execution_count": 9,
      "outputs": []
    },
    {
      "cell_type": "code",
      "metadata": {
        "colab": {
          "base_uri": "https://localhost:8080/"
        },
        "id": "tBnRRT1O0EBg",
        "outputId": "7d220119-4315-4731-f7a0-240573ee5bc0"
      },
      "source": [
        "from keras.preprocessing.image import ImageDataGenerator\n",
        "\n",
        "train_datagen=ImageDataGenerator(rescale=1./255,\n",
        "                                 rotation_range =4, #randomly rotate my image between 0 and 5 degrees \n",
        "                                 width_shift_range=0.1,#shift the image along X-axis by 10% \n",
        "                                 height_shift_range=0.1, #shift the image along Y-axis by 10% \n",
        "                                 shear_range=0.2, # shear the image by 2% \n",
        "                                 zoom_range=0.2, #means zoom-in and zoom-out by 2%\n",
        "                                 fill_mode='constant',\n",
        "                                 horizontal_flip=True)\n",
        "train_generator=train_datagen.flow_from_directory(train_dir,\n",
        "                                                  target_size=(224,224),\n",
        "                                                  batch_size =32,\n",
        "                                                  class_mode='categorical')\n",
        "validation_datagen = ImageDataGenerator(rescale=1./255)\n",
        "validation_generator= validation_datagen.flow_from_directory(val_dir,\n",
        "                                                             target_size=(224,224),\n",
        "                                                             batch_size=32,\n",
        "                                                             class_mode='categorical')\n",
        "train_generator.class_indices"
      ],
      "execution_count": 10,
      "outputs": [
        {
          "output_type": "stream",
          "text": [
            "Found 5786 images belonging to 2 classes.\n",
            "Found 2472 images belonging to 2 classes.\n"
          ],
          "name": "stdout"
        },
        {
          "output_type": "execute_result",
          "data": {
            "text/plain": [
              "{'Covid': 0, 'Non-Covid': 1}"
            ]
          },
          "metadata": {
            "tags": []
          },
          "execution_count": 10
        }
      ]
    },
    {
      "cell_type": "code",
      "metadata": {
        "id": "ZoIkUInL0FCo",
        "colab": {
          "base_uri": "https://localhost:8080/"
        },
        "outputId": "0c5d46e9-de5c-4056-9865-5615f29bda11"
      },
      "source": [
        "EPOCHS_=5\n",
        "history= model.fit_generator(\n",
        "    train_generator,\n",
        "    validation_data=validation_generator,\n",
        "    epochs = EPOCHS_,\n",
        "    steps_per_epoch=len(train_generator),    \n",
        "    validation_steps=len(validation_generator)\n",
        "#     batch_size=64,\n",
        "#    callbacks=callbacks_list\n",
        "    )"
      ],
      "execution_count": 11,
      "outputs": [
        {
          "output_type": "stream",
          "text": [
            "/usr/local/lib/python3.7/dist-packages/keras/engine/training.py:1972: UserWarning: `Model.fit_generator` is deprecated and will be removed in a future version. Please use `Model.fit`, which supports generators.\n",
            "  warnings.warn('`Model.fit_generator` is deprecated and '\n"
          ],
          "name": "stderr"
        },
        {
          "output_type": "stream",
          "text": [
            "Epoch 1/5\n",
            "181/181 [==============================] - 2924s 16s/step - loss: 0.4665 - accuracy: 0.7942 - val_loss: 0.3188 - val_accuracy: 0.8596\n",
            "Epoch 2/5\n",
            "181/181 [==============================] - 115s 637ms/step - loss: 0.3677 - accuracy: 0.8446 - val_loss: 0.3169 - val_accuracy: 0.8621\n",
            "Epoch 3/5\n",
            "181/181 [==============================] - 114s 631ms/step - loss: 0.3398 - accuracy: 0.8567 - val_loss: 0.2521 - val_accuracy: 0.8997\n",
            "Epoch 4/5\n",
            "181/181 [==============================] - 114s 633ms/step - loss: 0.3523 - accuracy: 0.8590 - val_loss: 0.4429 - val_accuracy: 0.8281\n",
            "Epoch 5/5\n",
            "181/181 [==============================] - 115s 637ms/step - loss: 0.3056 - accuracy: 0.8707 - val_loss: 0.2456 - val_accuracy: 0.8997\n"
          ],
          "name": "stdout"
        }
      ]
    },
    {
      "cell_type": "code",
      "metadata": {
        "id": "rDJdRoP40Gsa"
      },
      "source": [
        "\n",
        "# save it as a h5 file\n",
        "\n",
        "import tensorflow as tf\n",
        "\n",
        "from keras.models import load_model\n",
        "\n",
        "model.save('model_vgg16.h5')"
      ],
      "execution_count": 12,
      "outputs": []
    },
    {
      "cell_type": "code",
      "metadata": {
        "id": "Y1oZLABx4HNC",
        "colab": {
          "base_uri": "https://localhost:8080/"
        },
        "outputId": "f6a33e82-d920-4e4d-f07c-4494d43f5ac8"
      },
      "source": [
        "from keras.models import load_model\n",
        "from keras.preprocessing import image\n",
        "from keras.applications.vgg16 import preprocess_input\n",
        "import numpy as np\n",
        "model = load_model('model_vgg16.h5')\n",
        "\n",
        "image_url = input(\"Enter your image url: \")\n",
        "print(image_url)\n",
        "\n",
        "img = image.load_img(image_url,target_size = (224,224))\n",
        "# img = image.load_img('/content/drive/MyDrive/Final-Dataset4000-SPLIT/val/Non-Covid/Normal-10072.png',target_size = (224,224))\n",
        "\n",
        "x = image.img_to_array(img)\n",
        "x = np.expand_dims(x, axis = 0)\n",
        "img_data = preprocess_input(x)\n",
        "classes = model.predict(img_data)\n",
        "print(np.max(classes))   # just to see the max value of the classes\n",
        "print(classes)\n",
        "# print(classes[0][1])\n",
        "if(classes[0][0] == np.max(classes)):\n",
        "    print(\"Covid\")\n",
        "else:\n",
        "    print(\"Non-covid\")"
      ],
      "execution_count": 41,
      "outputs": [
        {
          "output_type": "stream",
          "text": [
            "Enter your image url: /content/drive/MyDrive/Final-Dataset4000-SPLIT/val/Non-Covid/Normal-10072.png\n",
            "/content/drive/MyDrive/Final-Dataset4000-SPLIT/val/Non-Covid/Normal-10072.png\n",
            "1.0\n",
            "[[0. 1.]]\n",
            "Non-covid\n"
          ],
          "name": "stdout"
        }
      ]
    }
  ]
}